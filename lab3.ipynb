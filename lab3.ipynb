{
 "cells": [
  {
   "cell_type": "markdown",
   "metadata": {
    "id": "QHnVupBBn9eR"
   },
   "source": [
    "\n",
    "# Assignment 3\n",
    "\n",
    "This is a template notebook for Assignment 3.\n"
   ]
  },
  {
   "cell_type": "markdown",
   "metadata": {
    "id": "vM54r6jlKTII"
   },
   "source": [
    "## Install dependencies and initialization"
   ]
  },
  {
   "cell_type": "code",
   "execution_count": null,
   "metadata": {
    "id": "9_FzH13EjseR"
   },
   "outputs": [],
   "source": [
    "# install dependencies: \n",
    "!pip install pyyaml==5.1 pycocotools>=2.0.1\n",
    "# !pip install detectron2 -f https://dl.fbaipublicfiles.com/detectron2/wheels/cu101/torch1.6/index.html\n",
    "!pip install detectron2 -f https://dl.fbaipublicfiles.com/detectron2/wheels/cu111/torch1.9/index.html"
   ]
  },
  {
   "cell_type": "code",
   "execution_count": null,
   "metadata": {
    "id": "dqAUb5Y12qXt"
   },
   "outputs": [],
   "source": [
    "!pwd # shows current directory\n",
    "!ls  # shows all files in this directory\n",
    "!nvidia-smi # shows the specs and the current status of the allocated GPU"
   ]
  },
  {
   "cell_type": "code",
   "execution_count": null,
   "metadata": {
    "id": "b-i4hmGYk1dL"
   },
   "outputs": [],
   "source": [
    "# import some common libraries\n",
    "# from google.colab.patches import cv2_imshow\n",
    "from sklearn.metrics import jaccard_score\n",
    "from PIL import Image, ImageDraw, ImageOps\n",
    "from tqdm import tqdm\n",
    "import pandas as pd\n",
    "import numpy as np\n",
    "import datetime\n",
    "import random\n",
    "import json\n",
    "import cv2\n",
    "import csv\n",
    "import os\n",
    "import copy\n",
    "import torchvision\n",
    "\n",
    "# import some common pytorch utilities\n",
    "from torch.utils.data import Dataset, DataLoader\n",
    "import torchvision.transforms as transforms\n",
    "from torch.autograd import Variable\n",
    "import torch.nn.functional as F\n",
    "import torchvision.transforms.functional as tvF\n",
    "import torch.nn as nn\n",
    "import torch\n",
    "import matplotlib.pyplot as plt\n",
    "from glob import glob\n",
    "import albumentations as A\n",
    "from albumentations.pytorch import ToTensorV2\n",
    "\n",
    "# import some common detectron2 utilities\n",
    "import detectron2\n",
    "from detectron2 import model_zoo\n",
    "from detectron2.config import get_cfg\n",
    "from detectron2.structures import BoxMode\n",
    "from detectron2.engine import DefaultTrainer\n",
    "from detectron2.engine import DefaultPredictor\n",
    "from detectron2.utils.logger import setup_logger\n",
    "from detectron2.utils.visualizer import ColorMode\n",
    "from detectron2.utils.visualizer import Visualizer\n",
    "from detectron2.data import build_detection_test_loader, DatasetMapper, build_detection_train_loader\n",
    "from detectron2.data import MetadataCatalog, DatasetCatalog\n",
    "from detectron2.checkpoint import DetectionCheckpointer\n",
    "import detectron2.data.transforms as T\n",
    "from detectron2.evaluation import COCOEvaluator, inference_on_dataset, LVISEvaluator\n",
    "setup_logger()"
   ]
  },
  {
   "cell_type": "code",
   "execution_count": null,
   "metadata": {},
   "outputs": [],
   "source": [
    "sigmoid = nn.Sigmoid()"
   ]
  },
  {
   "cell_type": "code",
   "execution_count": null,
   "metadata": {
    "id": "tUA_j6AF1L5Y"
   },
   "outputs": [],
   "source": [
    "# Make sure that GPU is available for your notebook. \n",
    "# Otherwise, you need to update the settungs in Runtime -> Change runtime type -> Hardware accelerator\n",
    "torch.cuda.is_available()"
   ]
  },
  {
   "cell_type": "code",
   "execution_count": null,
   "metadata": {
    "id": "ZyAvNCJMmvFF"
   },
   "outputs": [],
   "source": [
    "# # You need to mount your google drive in order to load the data:\n",
    "# from google.colab import drive\n",
    "# drive.mount('/content/drive')\n",
    "# # Put all the corresponding data files in a data folder and put the data folder in a same directory with this notebook.\n",
    "# # Also create an output directory for your files such as the trained models and the output images."
   ]
  },
  {
   "cell_type": "code",
   "execution_count": null,
   "metadata": {
    "id": "A_Di_fgL4HSv"
   },
   "outputs": [],
   "source": [
    "# Define the location of current directory, which should contain data/train, data/test, and data/train.json.\n",
    "# TODO: approx 1 line\n",
    "BASE_DIR = './'\n",
    "OUTPUT_DIR = '{}/output'.format(BASE_DIR)\n",
    "os.makedirs(OUTPUT_DIR, exist_ok=True)"
   ]
  },
  {
   "cell_type": "markdown",
   "metadata": {
    "id": "Vk4gID50K03a"
   },
   "source": [
    "## Part 1: Object Detection"
   ]
  },
  {
   "cell_type": "markdown",
   "metadata": {
    "id": "xRV-KFJzlur4"
   },
   "source": [
    "### Data Loader"
   ]
  },
  {
   "cell_type": "code",
   "execution_count": null,
   "metadata": {},
   "outputs": [],
   "source": [
    "'''\n",
    "# This function should return a list of data samples in which each sample is a dictionary. \n",
    "# Make sure to select the correct bbox_mode for the data\n",
    "# For the test data, you only have access to the images, therefore, the annotations should be empty.\n",
    "# Other values could be obtained from the image files.\n",
    "# TODO: approx 35 lines\n",
    "'''\n",
    "images_min_max_cords = {}\n",
    "def get_detection_data(set_name, complete=False):\n",
    "    global images_min_max_cords\n",
    "    images_min_max_cords = {}\n",
    "    data_dirs = '{}/data'.format(BASE_DIR)\n",
    "    record = {}\n",
    "    dataset_dicts = []\n",
    "    if set_name == \"train\" or set_name == \"val\":\n",
    "        processed_data_dirs = '{}/object_detection_data'.format(BASE_DIR)\n",
    "        os.makedirs(os.path.join(processed_data_dirs, \"train\"), exist_ok=True)\n",
    "        with open(os.path.join(data_dirs, \"train.json\")) as f:\n",
    "            imgs_anns = json.load(f)\n",
    "        sorted_imgs_anns = sorted(imgs_anns, key=lambda x:x['file_name'])\n",
    "        i = 0\n",
    "        previous_file_name = None\n",
    "        record[\"file_name\"] = os.path.join(data_dirs, \"train\", sorted_imgs_anns[0][\"file_name\"])\n",
    "        record[\"image_id\"] = sorted_imgs_anns[0][\"image_id\"]\n",
    "        record['width'], record['height'] = Image.open(os.path.join(data_dirs, \"train\", sorted_imgs_anns[0]['file_name'])).size\n",
    "        record['annotations'] = [{\n",
    "                'bbox_mode': BoxMode.XYWH_ABS,\n",
    "                \"category_id\": 0,\n",
    "                \"segmentation\": sorted_imgs_anns[0]['segmentation'],\n",
    "                \"bbox\": sorted_imgs_anns[0]['bbox']\n",
    "            }]\n",
    "        x, y, dx, dy = sorted_imgs_anns[0]['bbox']\n",
    "        x, y, dx, dy = int(x), int(y), int(dx), int(dy)\n",
    "        min_x_start, min_y_start, max_x_end, max_y_end = x, y, x+dx, y+dy\n",
    "        while True:\n",
    "            if i+1 < len(sorted_imgs_anns) and sorted_imgs_anns[i+1][\"file_name\"] == sorted_imgs_anns[i][\"file_name\"]:\n",
    "                record['annotations'].append({\n",
    "                    'bbox_mode': BoxMode.XYWH_ABS,\n",
    "                    \"category_id\": 0,\n",
    "                    \"segmentation\": sorted_imgs_anns[i+1]['segmentation'],\n",
    "                    \"bbox\": sorted_imgs_anns[i+1]['bbox']\n",
    "                })\n",
    "                x, y, dx, dy = sorted_imgs_anns[i+1]['bbox']\n",
    "                x, y, dx, dy = int(x), int(y), int(dx), int(dy)\n",
    "                min_x_start = min(min_x_start, x)\n",
    "                min_y_start = min(min_y_start, y)\n",
    "                max_x_end = max(max_x_end, x+dx)\n",
    "                max_y_end = max(max_y_end, y+dy)\n",
    "                i += 1\n",
    "                continue\n",
    "            else:\n",
    "                i += 1\n",
    "#             processed_image_path = os.path.join(processed_data_dirs, \"train\", sorted_imgs_anns[i-1][\"file_name\"])\n",
    "#             record[\"file_name\"] = processed_image_path\n",
    "#             if not os.path.isfile(processed_image_path):\n",
    "#                 Image.fromarray(cv2.imread(os.path.join(data_dirs, \"train\", sorted_imgs_anns[i-1][\"file_name\"]))[min_y_start:max_y_end, min_x_start:max_x_end]).save(processed_image_path)\n",
    "#             for annotation in record[\"annotations\"]:\n",
    "#                 x, y, dx, dy = annotation[\"bbox\"]\n",
    "#                 x, y, dx, dy = int(x), int(y), int(dx), int(dy)\n",
    "#                 annotation[\"bbox\"] = [x-min_x_start, y-min_y_start, dx, dy]\n",
    "#                 for s in range(len(annotation[\"segmentation\"])):\n",
    "#                     for j in range(0, len(annotation[\"segmentation\"][s]), 2):\n",
    "#                         annotation[\"segmentation\"][s][j] = annotation[\"segmentation\"][s][j] - min_x_start\n",
    "#                         annotation[\"segmentation\"][s][j+1] = annotation[\"segmentation\"][s][j+1] - min_y_start\n",
    "#             images_min_max_cords[record[\"file_name\"]] = [min_x_start, min_y_start, record['width'], record['height']]\n",
    "#             record['width'], record['height'] = max_x_end - min_x_start, max_y_end - min_y_start\n",
    "            dataset_dicts.append(record)\n",
    "            record = {}\n",
    "            if i == len(sorted_imgs_anns):\n",
    "                break\n",
    "            record[\"file_name\"] = os.path.join(data_dirs, \"train\", sorted_imgs_anns[i][\"file_name\"])\n",
    "            record[\"image_id\"] = sorted_imgs_anns[i][\"image_id\"]\n",
    "            record['width'], record['height'] = Image.open(os.path.join(data_dirs, \"train\", sorted_imgs_anns[i]['file_name'])).size\n",
    "            record['annotations'] = [{\n",
    "                    'bbox_mode': BoxMode.XYWH_ABS,\n",
    "                    \"category_id\": 0,\n",
    "                    \"segmentation\": sorted_imgs_anns[i]['segmentation'],\n",
    "                    \"bbox\": sorted_imgs_anns[i]['bbox']\n",
    "                }]\n",
    "            x, y, dx, dy = sorted_imgs_anns[i]['bbox']\n",
    "            x, y, dx, dy = int(x), int(y), int(dx), int(dy)\n",
    "            min_x_start, min_y_start, max_x_end, max_y_end = x, y, x+dx, y+dy\n",
    "        random.Random(4).shuffle(dataset_dicts)\n",
    "#         random.shuffle(dataset_dicts)\n",
    "#         if set_name == \"train\":\n",
    "#             dataset_dicts = dataset_dicts[int(len(dataset_dicts)*0.15):]\n",
    "        if set_name == \"val\":\n",
    "            dataset_dicts = dataset_dicts[:int(len(dataset_dicts)*0.15)]\n",
    "    elif set_name == \"test\":\n",
    "        img_file_pathes = glob(os.path.join(data_dirs, 'test/*.png'))\n",
    "        for idx, img_file_path in enumerate(img_file_pathes):\n",
    "            img = Image.open(img_file_path)\n",
    "            record = {}\n",
    "            record[\"file_name\"] = img_file_path\n",
    "            record[\"image_id\"] = idx\n",
    "            record['width'], record['height'] = Image.open(img_file_path).size\n",
    "            record['annotations'] = []\n",
    "            dataset_dicts.append(record)\n",
    "    return dataset_dicts"
   ]
  },
  {
   "cell_type": "code",
   "execution_count": null,
   "metadata": {},
   "outputs": [],
   "source": [
    "'''\n",
    "# Remember to add your dataset to DatasetCatalog and MetadataCatalog\n",
    "# Consdier \"data_detection_train\" and \"data_detection_test\" for registration\n",
    "# You can also add an optional \"data_detection_val\" for your validation by spliting the training data\n",
    "# TODO: approx 5 lines\n",
    "'''\n",
    "for d in [\"train\", \"val\", \"test\"]:\n",
    "    DatasetCatalog.register(\"data_detection_\" + d, lambda d=d: get_detection_data(d))\n",
    "    MetadataCatalog.get(\"data_detection_\" + d).set(thing_classes=[\"plane\"])\n",
    "plane_metadata = MetadataCatalog.get(\"data_detection_train\")"
   ]
  },
  {
   "cell_type": "code",
   "execution_count": null,
   "metadata": {
    "scrolled": true
   },
   "outputs": [],
   "source": [
    "'''\n",
    "# Visualize some samples using Visualizer to make sure that the function works correctly\n",
    "# TODO: approx 5 lines\n",
    "'''\n",
    "dataset_dicts = get_detection_data(\"val\")\n",
    "# dataset_dicts = patched_dataset_dicts\n",
    "for d in random.sample(dataset_dicts, 3):\n",
    "    img = cv2.imread(d[\"file_name\"])\n",
    "    visualizer = Visualizer(img[:, :, ::-1], metadata=plane_metadata, scale=0.5)\n",
    "    out = visualizer.draw_dataset_dict(d)\n",
    "    plt.figure(figsize = (20,20))\n",
    "    plt.imshow(out.get_image()[:, :, ::-1])\n",
    "    plt.show()"
   ]
  },
  {
   "cell_type": "markdown",
   "metadata": {
    "id": "uM1thbN-ntjI"
   },
   "source": [
    "### Set Configs"
   ]
  },
  {
   "cell_type": "code",
   "execution_count": null,
   "metadata": {},
   "outputs": [],
   "source": [
    "models = {\n",
    "    \"R101-FPN\": \"COCO-InstanceSegmentation/mask_rcnn_R_101_FPN_3x.yaml\",\n",
    "    \"R_50_FPN\": \"COCO-Detection/faster_rcnn_R_50_FPN_3x.yaml\",#\n",
    "    \"R50-FPN\": \"COCO-Detection/faster_rcnn_R_50_FPN_1x.yaml\",\n",
    "    \"X101-FPN\": \"COCO-Detection/faster_rcnn_X_101_32x8d_FPN_3x.yaml\",\n",
    "    \"FAST_RCN\": \"COCO-Detection/fast_rcnn_R_50_FPN_1x.yaml\",\n",
    "    \"R50_DC5\": \"COCO-InstanceSegmentation/mask_rcnn_R_50_DC5_1x.yaml\"\n",
    "}"
   ]
  },
  {
   "cell_type": "code",
   "execution_count": null,
   "metadata": {},
   "outputs": [],
   "source": [
    "!rm -rf output/object_detection/*"
   ]
  },
  {
   "cell_type": "code",
   "execution_count": null,
   "metadata": {
    "id": "HUjkwRsOn1O0"
   },
   "outputs": [],
   "source": [
    "'''\n",
    "# Set the configs for the detection part in here.\n",
    "# TODO: approx 15 lines\n",
    "'''\n",
    "cfg = get_cfg()\n",
    "cfg.OUTPUT_DIR = \"{}/output/object_detection\".format(BASE_DIR)\n",
    "os.makedirs(cfg.OUTPUT_DIR, exist_ok=True)\n",
    "cfg.merge_from_file(model_zoo.get_config_file(models[\"X101-FPN\"]))\n",
    "cfg.DATASETS.TRAIN = (\"data_detection_train\",)\n",
    "cfg.DATASETS.TEST = (\"data_detection_val\",)\n",
    "cfg.DATALOADER.NUM_WORKERS = 8\n",
    "cfg.MODEL.WEIGHTS = model_zoo.get_checkpoint_url(models[\"X101-FPN\"])  # Let training initialize from model zoo\n",
    "cfg.SOLVER.IMS_PER_BATCH = 2\n",
    "cfg.SOLVER.BASE_LR = 0.001  # pick a good LR\n",
    "cfg.SOLVER.MAX_ITER = 300    # 300 iterations seems good enough for this toy dataset; you will need to train longer for a practical dataset\n",
    "cfg.SOLVER.STEPS = []        # do not decay learning rate\n",
    "cfg.MODEL.ROI_HEADS.BATCH_SIZE_PER_IMAGE = 512   # faster, and good enough for this toy dataset (default: 512)\n",
    "cfg.MODEL.ROI_HEADS.NUM_CLASSES = 1  # only has one class (ballon). (see https://detectron2.readthedocs.io/tutorials/datasets.html#update-the-config-for-new-datasets)\n",
    "# NOTE: this config means the number of classes, but a few popular unofficial tutorials incorrect uses num_classes+1 here.\n"
   ]
  },
  {
   "cell_type": "code",
   "execution_count": null,
   "metadata": {},
   "outputs": [],
   "source": [
    "class CostumTrainer(DefaultTrainer):\n",
    "    def build_train_loader(cls, cfg):\n",
    "        dataloader = build_detection_train_loader(\n",
    "                        cfg,\n",
    "                        mapper=DatasetMapper(cfg,is_train=True, augmentations=[\n",
    "                            T.ResizeShortestEdge(short_edge_length=(600, 800), max_size=1333, sample_style='choice'),\n",
    "                            T.RandomFlip(),\n",
    "                            T.RandomBrightness(0.5, 1.5),\n",
    "                        ])\n",
    "                    )\n",
    "        return dataloader"
   ]
  },
  {
   "cell_type": "code",
   "execution_count": null,
   "metadata": {
    "id": "7d3KxiHO_0gb"
   },
   "outputs": [],
   "source": [
    "'''\n",
    "# Create a DefaultTrainer using the above config and train the model\n",
    "# TODO: approx 5 lines\n",
    "'''\n",
    "trainer = CostumTrainer(cfg) \n",
    "trainer.resume_or_load(resume=False)\n",
    "trainer.train()"
   ]
  },
  {
   "cell_type": "markdown",
   "metadata": {
    "id": "fRVEiICco3SV"
   },
   "source": [
    "### Evaluation and Visualization"
   ]
  },
  {
   "cell_type": "code",
   "execution_count": null,
   "metadata": {
    "id": "VYCIXdMZvDYL"
   },
   "outputs": [],
   "source": [
    "'''\n",
    "# After training the model, you need to update cfg.MODEL.WEIGHTS\n",
    "# Define a DefaultPredictor\n",
    "'''\n",
    "cfg.MODEL.WEIGHTS = os.path.join(cfg.OUTPUT_DIR, \"model_final.pth\")  # path to the model we just trained\n",
    "cfg.MODEL.ROI_HEADS.SCORE_THRESH_TEST = 0.6   # set a custom testing threshold\n",
    "predictor = DefaultPredictor(cfg)"
   ]
  },
  {
   "cell_type": "code",
   "execution_count": null,
   "metadata": {
    "id": "_hRCf86KGi5v"
   },
   "outputs": [],
   "source": [
    "'''\n",
    "# Visualize the output for 3 random test samples\n",
    "# TODO: approx 10 lines\n",
    "'''\n",
    "dataset_dicts = get_detection_data(\"test\")\n",
    "for d in random.sample(dataset_dicts, 3): \n",
    "# dataset_dicts = get_detection_data(\"train\")\n",
    "# for d in dataset_dicts: \n",
    "    print(d[\"file_name\"])\n",
    "    im = cv2.imread(d[\"file_name\"])\n",
    "    outputs = predictor(im)  # format is documented at https://detectron2.readthedocs.io/tutorials/models.html#model-output-format\n",
    "    v = Visualizer(im[:, :, ::-1],\n",
    "                   metadata=plane_metadata, \n",
    "                   scale=0.5, \n",
    "                   instance_mode=ColorMode.IMAGE_BW   # remove the colors of unsegmented pixels. This option is only available for segmentation models\n",
    "    )\n",
    "    out = v.draw_instance_predictions(outputs[\"instances\"].to(\"cpu\"))\n",
    "    plt.figure(figsize=(20, 20))\n",
    "    plt.imshow(out.get_image()[:, :, ::-1])\n",
    "    plt.show()"
   ]
  },
  {
   "cell_type": "code",
   "execution_count": null,
   "metadata": {
    "id": "D0wRdlcKo6BD",
    "scrolled": true
   },
   "outputs": [],
   "source": [
    "'''\n",
    "# Use COCOEvaluator and build_detection_train_loader\n",
    "# You can save the output predictions using inference_on_dataset\n",
    "# TODO: approx 5 lines\n",
    "'''\n",
    "evaluator = COCOEvaluator(\"data_detection_val\", output_dir=\"./output/object_detection/\")\n",
    "val_loader = build_detection_test_loader(cfg, \"data_detection_val\")\n",
    "print(inference_on_dataset(predictor.model, val_loader, evaluator))\n",
    "# another equivalent way to evaluate the model is to use `trainer.test`\n"
   ]
  },
  {
   "cell_type": "markdown",
   "metadata": {
    "id": "EwYvbwcjpKBk"
   },
   "source": [
    "### Improvements\n",
    "\n",
    "For this part, you can bring any improvement which you have by adding new input parameters to the previous functions or defining new functions and variables."
   ]
  },
  {
   "cell_type": "code",
   "execution_count": null,
   "metadata": {
    "id": "xdR6KbCZpOlk"
   },
   "outputs": [],
   "source": [
    "'''\n",
    "# Bring any changes and updates regarding the improvement in here\n",
    "'''\n"
   ]
  },
  {
   "cell_type": "markdown",
   "metadata": {
    "id": "98_M4TooqSs2"
   },
   "source": [
    "## Part 2: Semantic Segmentation"
   ]
  },
  {
   "cell_type": "code",
   "execution_count": null,
   "metadata": {},
   "outputs": [],
   "source": [
    "!rm -rf output/semantic_segmentation/"
   ]
  },
  {
   "cell_type": "code",
   "execution_count": null,
   "metadata": {},
   "outputs": [],
   "source": [
    "semantic_segmentation_output_dir = f\"{BASE_DIR}/output/semantic_segmentation\"\n",
    "os.makedirs(semantic_segmentation_output_dir, exist_ok=True)"
   ]
  },
  {
   "cell_type": "markdown",
   "metadata": {
    "id": "ByAEsMtIPLrO"
   },
   "source": [
    "### Data Loader"
   ]
  },
  {
   "cell_type": "code",
   "execution_count": null,
   "metadata": {},
   "outputs": [],
   "source": [
    "!rm -rf preprocessed_data/"
   ]
  },
  {
   "cell_type": "code",
   "execution_count": null,
   "metadata": {},
   "outputs": [],
   "source": [
    "directories = {\n",
    "    \"train\":{\n",
    "        \"images_dir\": \"./preprocessed_data/train/images\",\n",
    "        \"masks_dir\": \"./preprocessed_data/train/masks\",\n",
    "    },\n",
    "    \"val\":{\n",
    "        \"images_dir\": \"./preprocessed_data/val/images\",\n",
    "        \"masks_dir\": \"./preprocessed_data/val/masks\",\n",
    "    },\n",
    "}"
   ]
  },
  {
   "cell_type": "code",
   "execution_count": null,
   "metadata": {},
   "outputs": [],
   "source": [
    "for dataset in directories:\n",
    "    for path in directories[dataset]:\n",
    "        os.makedirs(directories[dataset][path], exist_ok=True)"
   ]
  },
  {
   "cell_type": "code",
   "execution_count": null,
   "metadata": {},
   "outputs": [],
   "source": [
    "for dataset in [\"train\", \"val\"]:\n",
    "    if len(os.listdir(directories[dataset][\"images_dir\"])) > 0 and len(os.listdir(directories[dataset][\"masks_dir\"])) > 0:\n",
    "        print(f\"preprocessed data for {dataset} exists\")\n",
    "        continue\n",
    "    print(\"preprocessing the data\")\n",
    "    my_data_list = DatasetCatalog.get(\"data_detection_{}\".format(dataset))\n",
    "    for data in tqdm(my_data_list):\n",
    "        img = cv2.imread(data['file_name'])\n",
    "        for idx, annotation in enumerate(data['annotations']):\n",
    "            x, y, dx, dy = annotation['bbox']\n",
    "            x, y, dx, dy = int(x), int(y), int(dx), int(dy)\n",
    "#             obj_img = img.crop((x, y, x+dx, y+dy))\n",
    "            obj_img = img[y:y+dx, x:x+dx]\n",
    "            obj_x, obj_y, c = obj_img.shape\n",
    "            obj_mask = np.zeros((obj_y, obj_x))\n",
    "            polygon = []\n",
    "            for i in range(0, len(annotation['segmentation'][0]), 2):\n",
    "                s_x, s_y = annotation['segmentation'][0][i:i+2]\n",
    "                polygon.append([s_x-x, s_y-y])\n",
    "\n",
    "            contours = np.array(polygon)\n",
    "            cv2.fillPoly(obj_mask, pts = [contours], color =(1,1,1))\n",
    "            file_name = data['file_name'].split(\"/\")[-1]\n",
    "            Image.fromarray(obj_img).save(os.path.join(directories[dataset][\"images_dir\"], f\"{idx}_{file_name}\"))\n",
    "            if len(np.array(obj_img).shape) == 2:\n",
    "                print(data['file_name'])\n",
    "            img_name = file_name.split(\".\")[0]\n",
    "            np.save(os.path.join(directories[dataset][\"masks_dir\"], f\"{idx}_{img_name}\"), obj_mask)"
   ]
  },
  {
   "cell_type": "code",
   "execution_count": null,
   "metadata": {
    "id": "peQ95zLuIpkk"
   },
   "outputs": [],
   "source": [
    "'''\n",
    "# Write a function that returns the cropped image and corresponding mask regarding the target bounding box\n",
    "# idx is the index of the target bbox in the data\n",
    "# high-resolution image could be passed or could be load from data['file_name']\n",
    "# You can use the mask attribute of detectron2.utils.visualizer.GenericMask \n",
    "#     to convert the segmentation annotations to binary masks\n",
    "# TODO: approx 10 lines\n",
    "'''\n",
    "def get_instance_sample(data, idx, dataset=\"train\"):\n",
    "    file_name = data['file_name'].split(\"/\")[-1]\n",
    "    try:\n",
    "#         obj_img = cv2.imread(os.path.join(directories[dataset][\"images_dir\"], f\"{idx}_{file_name}\"))\n",
    "        obj_img = np.array(ImageOps.grayscale(Image.open(os.path.join(directories[dataset][\"images_dir\"], f\"{idx}_{file_name}\"))))\n",
    "    except:\n",
    "#         obj_img = cv2.imread(os.path.join(directories[\"val\"][\"images_dir\"], f\"{idx}_{file_name}\"))\n",
    "        obj_img = np.array(ImageOps.grayscale(Image.open(os.path.join(directories[\"val\"][\"images_dir\"], f\"{idx}_{file_name}\"))))\n",
    "    img_name = file_name.split(\".\")[0]\n",
    "    try:\n",
    "        obj_mask = np.load(os.path.join(directories[dataset][\"masks_dir\"], f\"{idx}_{img_name}.npy\"))\n",
    "    except:\n",
    "        obj_mask = np.load(os.path.join(directories[\"val\"][\"masks_dir\"], f\"{idx}_{img_name}.npy\"))\n",
    "    return obj_img, obj_mask"
   ]
  },
  {
   "cell_type": "code",
   "execution_count": null,
   "metadata": {},
   "outputs": [],
   "source": [
    "img_size = (128, 128)"
   ]
  },
  {
   "cell_type": "code",
   "execution_count": null,
   "metadata": {
    "id": "sxrc9X_pjzj-"
   },
   "outputs": [],
   "source": [
    "'''\n",
    "# We have provided a template data loader for your segmentation training\n",
    "# You need to complete the __getitem__() function before running the code\n",
    "# You may also need to add data augmentation or normalization in here\n",
    "'''\n",
    "\n",
    "class PlaneDataset(Dataset):\n",
    "    def __init__(self, set_name, data_list):\n",
    "        if set_name == \"train\":\n",
    "            self.transforms = A.Compose([\n",
    "                A.Resize(img_size[0], img_size[1], cv2.INTER_NEAREST),\n",
    "                A.ShiftScaleRotate(border_mode=cv2.BORDER_CONSTANT, \n",
    "                                      scale_limit=0.3,\n",
    "                                      rotate_limit=(30, 30),\n",
    "                                      p=0.75),\n",
    "                A.Flip(),\n",
    "                A.Normalize((0.5227), (0.2320)),\n",
    "#                 A.Normalize([0.5309, 0.5279, 0.5051], [0.2326, 0.2342, 0.2327]),\n",
    "                ToTensorV2(),\n",
    "            ], p=1)\n",
    "        else:\n",
    "            self.transforms = A.Compose([\n",
    "                A.Resize(img_size[0], img_size[1], cv2.INTER_NEAREST),\n",
    "#                 A.Normalize([0.5309, 0.5279, 0.5051], [0.2326, 0.2342, 0.2327]),\n",
    "                A.Normalize((0.5227), (0.2320)),\n",
    "                ToTensorV2(),\n",
    "            ], p=1)\n",
    "        \n",
    "        self.set_name = set_name\n",
    "        self.data = data_list\n",
    "        self.instance_map = []\n",
    "        for i, d in enumerate(self.data):\n",
    "            for j in range(len(d['annotations'])):\n",
    "                self.instance_map.append([i,j])\n",
    "\n",
    "    '''\n",
    "    # you can change the value of length to a small number like 10 for debugging of your training procedure and overfeating\n",
    "    # make sure to use the correct length for the final training\n",
    "    '''\n",
    "    def __len__(self):\n",
    "        return len(self.instance_map)\n",
    "\n",
    "    def numpy_to_tensor(self, img, mask):\n",
    "        if self.transforms is not None:\n",
    "            img = self.transforms(img)\n",
    "        img = torch.tensor(img, dtype=torch.float)\n",
    "        mask = torch.tensor(mask, dtype=torch.float)\n",
    "        return img, mask\n",
    "\n",
    "    '''\n",
    "    # Complete this part by using get_instance_sample function\n",
    "    # make sure to resize the img and mask to a fixed size (for example 128*128)\n",
    "    # you can use \"interpolate\" function of pytorch or \"numpy.resize\"\n",
    "    # TODO: 5 lines\n",
    "    '''\n",
    "    def __getitem__(self, idx):\n",
    "        if torch.is_tensor(idx):\n",
    "            idx = idx.tolist()\n",
    "        idx = self.instance_map[idx]\n",
    "        data = self.data[idx[0]]\n",
    "        img, mask = get_instance_sample(data, idx[1], self.set_name)\n",
    "        transformed = self.transforms(image=img, mask=mask)\n",
    "        img, mask = transformed['image'], transformed['mask']\n",
    "\n",
    "        return img, torch.unsqueeze(mask, 0)\n",
    "\n",
    "def get_plane_dataset(set_name='train', batch_size=32):\n",
    "    my_data_list = DatasetCatalog.get(\"data_detection_{}\".format(set_name))\n",
    "    dataset = PlaneDataset(set_name, my_data_list)\n",
    "    loader = DataLoader(dataset, batch_size=batch_size, num_workers=8,\n",
    "                                              pin_memory=True, shuffle=True)\n",
    "    return loader, dataset"
   ]
  },
  {
   "cell_type": "code",
   "execution_count": null,
   "metadata": {},
   "outputs": [],
   "source": [
    "loader, dataset = get_plane_dataset(batch_size=512)"
   ]
  },
  {
   "cell_type": "code",
   "execution_count": null,
   "metadata": {},
   "outputs": [],
   "source": [
    "def batch_mean_and_sd(loader):\n",
    "    \n",
    "    cnt = 0\n",
    "    fst_moment = torch.empty(3)\n",
    "    snd_moment = torch.empty(3)\n",
    "\n",
    "    for images, _ in tqdm(loader):\n",
    "        images = images / 255.0\n",
    "        b, c, h, w = images.shape\n",
    "        nb_pixels = b * h * w\n",
    "        sum_ = torch.sum(images, dim=[0, 2, 3])\n",
    "        sum_of_square = torch.sum(images ** 2,\n",
    "                                  dim=[0, 2, 3])\n",
    "        fst_moment = (cnt * fst_moment + sum_) / (cnt + nb_pixels)\n",
    "        snd_moment = (cnt * snd_moment + sum_of_square) / (cnt + nb_pixels)\n",
    "        cnt += nb_pixels\n",
    "\n",
    "    mean, std = fst_moment, torch.sqrt(snd_moment - fst_moment ** 2)        \n",
    "    return mean,std"
   ]
  },
  {
   "cell_type": "code",
   "execution_count": null,
   "metadata": {},
   "outputs": [],
   "source": [
    "mean, std = batch_mean_and_sd(loader)"
   ]
  },
  {
   "cell_type": "code",
   "execution_count": null,
   "metadata": {},
   "outputs": [],
   "source": [
    "mean"
   ]
  },
  {
   "cell_type": "code",
   "execution_count": null,
   "metadata": {},
   "outputs": [],
   "source": [
    "std"
   ]
  },
  {
   "cell_type": "markdown",
   "metadata": {
    "id": "m6eH3NKaQQfc"
   },
   "source": [
    "### Network"
   ]
  },
  {
   "cell_type": "code",
   "execution_count": null,
   "metadata": {},
   "outputs": [],
   "source": [
    "class batchnorm_relu(nn.Module):\n",
    "    def __init__(self, in_c):\n",
    "        super().__init__()\n",
    "\n",
    "        self.bn = nn.BatchNorm2d(in_c)\n",
    "        self.relu = nn.ReLU()\n",
    "\n",
    "    def forward(self, inputs):\n",
    "        x = self.bn(inputs)\n",
    "        x = self.relu(x)\n",
    "        return x"
   ]
  },
  {
   "cell_type": "code",
   "execution_count": null,
   "metadata": {},
   "outputs": [],
   "source": [
    "class residual_block(nn.Module):\n",
    "    def __init__(self, in_c, out_c, stride=1):\n",
    "        super().__init__()\n",
    "\n",
    "        \"\"\" Convolutional layer \"\"\"\n",
    "        self.b1 = batchnorm_relu(in_c)\n",
    "        self.c1 = nn.Conv2d(in_c, out_c, kernel_size=3, padding=1, stride=stride)\n",
    "        self.b2 = batchnorm_relu(out_c)\n",
    "        self.c2 = nn.Conv2d(out_c, out_c, kernel_size=3, padding=1, stride=1)\n",
    "\n",
    "        \"\"\" Shortcut Connection (Identity Mapping) \"\"\"\n",
    "        self.s = nn.Conv2d(in_c, out_c, kernel_size=1, padding=0, stride=stride)\n",
    "\n",
    "    def forward(self, inputs):\n",
    "        x = self.b1(inputs)\n",
    "        x = self.c1(x)\n",
    "        x = self.b2(x)\n",
    "        x = self.c2(x)\n",
    "        s = self.s(inputs)\n",
    "\n",
    "        skip = x + s\n",
    "        return skip"
   ]
  },
  {
   "cell_type": "code",
   "execution_count": null,
   "metadata": {},
   "outputs": [],
   "source": [
    "class decoder_block(nn.Module):\n",
    "    def __init__(self, in_c, out_c):\n",
    "        super().__init__()\n",
    "\n",
    "        self.upsample = nn.Upsample(scale_factor=2, mode=\"bilinear\", align_corners=True)\n",
    "        self.r = residual_block(in_c+out_c, out_c)\n",
    "\n",
    "    def forward(self, inputs, skip):\n",
    "        x = self.upsample(inputs)\n",
    "        x = torch.cat([x, skip], axis=1)\n",
    "        x = self.r(x)\n",
    "        return x"
   ]
  },
  {
   "cell_type": "code",
   "execution_count": null,
   "metadata": {},
   "outputs": [],
   "source": [
    "class build_resunet(nn.Module):\n",
    "    def __init__(self, out_sz):\n",
    "        super().__init__()\n",
    "        self.out_sz = out_sz\n",
    "        \"\"\" Encoder 1 \"\"\"\n",
    "        self.c11 = nn.Conv2d(1, 64, kernel_size=3, padding=1)\n",
    "        self.br1 = batchnorm_relu(64)\n",
    "        self.c12 = nn.Conv2d(64, 64, kernel_size=3, padding=1)\n",
    "        self.c13 = nn.Conv2d(1, 64, kernel_size=1, padding=0)\n",
    "\n",
    "        \"\"\" Encoder 2 and 3 \"\"\"\n",
    "        self.r2 = residual_block(64, 128, stride=2)\n",
    "        self.r3 = residual_block(128, 256, stride=2)\n",
    "\n",
    "        \"\"\" Bridge \"\"\"\n",
    "        self.r4 = residual_block(256, 512, stride=2)\n",
    "\n",
    "        \"\"\" Decoder \"\"\"\n",
    "        self.d1 = decoder_block(512, 256)\n",
    "        self.d2 = decoder_block(256, 128)\n",
    "        self.d3 = decoder_block(128, 64)\n",
    "\n",
    "        \"\"\" Output \"\"\"\n",
    "        self.output = nn.Conv2d(64, 1, kernel_size=1, padding=0)\n",
    "        self.sigmoid = nn.Sigmoid()\n",
    "\n",
    "    def forward(self, inputs):\n",
    "        \"\"\" Encoder 1 \"\"\"\n",
    "        x = self.c11(inputs)\n",
    "        x = self.br1(x)\n",
    "        x = self.c12(x)\n",
    "        s = self.c13(inputs)\n",
    "        skip1 = x + s\n",
    "\n",
    "        \"\"\" Encoder 2 and 3 \"\"\"\n",
    "        skip2 = self.r2(skip1)\n",
    "        skip3 = self.r3(skip2)\n",
    "\n",
    "        \"\"\" Bridge \"\"\"\n",
    "        b = self.r4(skip3)\n",
    "\n",
    "        \"\"\" Decoder \"\"\"\n",
    "        d1 = self.d1(b, skip3)\n",
    "        d2 = self.d2(d1, skip2)\n",
    "        d3 = self.d3(d2, skip1)\n",
    "\n",
    "        \"\"\" output \"\"\"\n",
    "        output = self.output(d3)\n",
    "        out = F.interpolate(output, self.out_sz)\n",
    "#         output = self.sigmoid(output)\n",
    "\n",
    "        return output"
   ]
  },
  {
   "cell_type": "code",
   "execution_count": null,
   "metadata": {
    "id": "PeqR3s3dSBPN"
   },
   "outputs": [],
   "source": [
    "'''\n",
    "# convolution module as a template layer consists of conv2d layer, batch normalization, and relu activation\n",
    "'''\n",
    "class conv(nn.Module):\n",
    "    def __init__(self, in_ch, out_ch, activation=True, kernel=3):\n",
    "        super(conv, self).__init__()\n",
    "        if(activation):\n",
    "            self.layer = nn.Sequential(\n",
    "                nn.Conv2d(in_ch, out_ch, kernel),\n",
    "                nn.BatchNorm2d(out_ch),\n",
    "                nn.ReLU(inplace=True)\n",
    "            )\n",
    "        else:\n",
    "            self.layer = nn.Sequential(\n",
    "                nn.Conv2d(in_ch, out_ch, kernel)  \n",
    "            )\n",
    "\n",
    "    def forward(self, x):\n",
    "        x = self.layer(x)\n",
    "        return x\n",
    "\n",
    "'''\n",
    "# downsampling module equal to a conv module followed by a max-pool layer\n",
    "'''\n",
    "class Conv_Block(nn.Module):\n",
    "    def __init__(self, in_ch, out_ch):\n",
    "        super(Conv_Block, self).__init__()\n",
    "        self.layer = nn.Sequential(\n",
    "            conv(in_ch, out_ch),\n",
    "            conv(out_ch, out_ch),\n",
    "        )\n",
    "\n",
    "    def forward(self, x):\n",
    "        x = self.layer(x)\n",
    "        return x\n",
    "\n",
    "    \n",
    "'''\n",
    "# upsampling module equal to a upsample function followed by a conv module\n",
    "'''\n",
    "\n",
    "'''\n",
    "# the main model which you need to complete by using above modules.\n",
    "# you can also modify the above modules in order to improve your results.\n",
    "'''\n",
    "def crop(encoder_features, x):\n",
    "    _, _, H, W = x.shape\n",
    "    encoder_features   = torchvision.transforms.CenterCrop([H, W])(encoder_features)\n",
    "    return encoder_features\n",
    "\n",
    "\n",
    "\n",
    "class MyModel(nn.Module):\n",
    "    def __init__(self, enc_chs=(1,64,128), dec_chs=(128,64), num_class=1, out_sz=(100, 100)):\n",
    "        super(MyModel, self).__init__()\n",
    "        self.enc_chs = enc_chs\n",
    "        self.dec_chs = dec_chs\n",
    "        self.out_sz = out_sz\n",
    "        # Encoder\n",
    "        self.enc_blocks = nn.ModuleList([Conv_Block(enc_chs[i], enc_chs[i+1]) for i in range(len(enc_chs)-1)])\n",
    "        self.pool = nn.MaxPool2d(2)\n",
    "        \n",
    "        # Decoder\n",
    "        self.dec_blocks = nn.ModuleList([Conv_Block(dec_chs[i], dec_chs[i+1]) for i in range(len(dec_chs)-1)]) \n",
    "        self.upconvs = nn.ModuleList([nn.ConvTranspose2d(dec_chs[i], dec_chs[i+1], 2, 2) for i in range(len(dec_chs)-1)])\n",
    "        \n",
    "        self.head = conv(dec_chs[-1], num_class, kernel=1)\n",
    "\n",
    "    def forward(self, x):\n",
    "        encoder_features = []\n",
    "        for block in self.enc_blocks:\n",
    "            x = block(x)\n",
    "            encoder_features.append(x)\n",
    "            x = self.pool(x)\n",
    "        x, encoder_features = encoder_features[::-1][0], encoder_features[::-1][1:]\n",
    "        for i in range(len(self.dec_chs)-1):\n",
    "            x = self.upconvs[i](x)\n",
    "            enc_ftrs = crop(encoder_features[i], x)\n",
    "            x = torch.cat([x, enc_ftrs], dim=1)\n",
    "            x = self.dec_blocks[i](x)\n",
    "        out = self.head(x)\n",
    "        out = F.interpolate(out, self.out_sz)\n",
    "        return out"
   ]
  },
  {
   "cell_type": "markdown",
   "metadata": {
    "id": "rQj86vD9QT_Z"
   },
   "source": [
    "### Training"
   ]
  },
  {
   "cell_type": "code",
   "execution_count": null,
   "metadata": {},
   "outputs": [],
   "source": [
    "!rm -rf output/semantic_segmentation/*"
   ]
  },
  {
   "cell_type": "code",
   "execution_count": null,
   "metadata": {},
   "outputs": [],
   "source": [
    "class DiceLoss(nn.Module):\n",
    "    def __init__(self, weight=None, size_average=True):\n",
    "        super(DiceLoss, self).__init__()\n",
    "\n",
    "    def forward(self, inputs, targets, smooth=1):\n",
    "        \n",
    "        #comment out if your model contains a sigmoid or equivalent activation layer\n",
    "        inputs = F.sigmoid(inputs)       \n",
    "        \n",
    "        #flatten label and prediction tensors\n",
    "        inputs = inputs.view(-1)\n",
    "        targets = targets.view(-1)\n",
    "        \n",
    "        intersection = (inputs * targets).sum()                            \n",
    "        dice = (2.*intersection + smooth)/(inputs.sum() + targets.sum() + smooth)  \n",
    "        \n",
    "        return 1 - dice"
   ]
  },
  {
   "cell_type": "code",
   "execution_count": null,
   "metadata": {
    "id": "MaZuO4SKSBuF"
   },
   "outputs": [],
   "source": [
    "'''\n",
    "# The following is a basic training procedure to train the network\n",
    "# You need to update the code to get the best performance\n",
    "# TODO: approx ? lines\n",
    "'''\n",
    "\n",
    "# Set the hyperparameters\n",
    "num_epochs = 40\n",
    "batch_size = 32\n",
    "learning_rate = 0.004\n",
    "weight_decay = 1e-4\n",
    "\n",
    "model = build_resunet(out_sz=img_size) # initialize the model\n",
    "model = model.cuda() # move the model to GPU\n",
    "loader, dataset = get_plane_dataset('train', batch_size) # initialize data_loader\n",
    "val_loader, val_dataset = get_plane_dataset('val', batch_size) # initialize data_loader\n",
    "# crit = nn.BCEWithLogitsLoss() # Define the loss function\n",
    "# optim = torch.optim.SGD(model.parameters(), lr=learning_rate, weight_decay=weight_decay) # Initialize the optimizer as SGD\n",
    "optim = torch.optim.Adam(model.parameters(), lr=learning_rate) # Initialize the optimizer as SGD\n",
    "lr_scheduler = torch.optim.lr_scheduler.OneCycleLR(optim, learning_rate, epochs=num_epochs, steps_per_epoch=len(dataset)//batch_size)\n",
    "# optim = torch.optim.RMSprop(model.parameters(), lr=learning_rate, weight_decay=1e-8, momentum=0.9)\n",
    "# lr_scheduler = torch.optim.lr_scheduler.ReduceLROnPlateau(optim, 'max', patience=2)  # goal: maximize Dice score\n",
    "crit = DiceLoss()\n",
    "\n",
    "# start the training procedure\n",
    "train_losses = []\n",
    "val_losses = []\n",
    "train_ious = []\n",
    "val_ious = []\n",
    "best_val_loss = 10000\n",
    "best_val_iou = 0\n",
    "total_iou = 0\n",
    "for epoch in range(num_epochs):\n",
    "    model.train()\n",
    "    total_loss = 0\n",
    "    val_total_loss = 0\n",
    "    model = model.train()\n",
    "    progress_bar = tqdm(loader)\n",
    "    data_count = 0\n",
    "    for idx, (img, mask) in enumerate(progress_bar):\n",
    "        progress_bar.set_description(f\"Train Epoch {epoch}\")\n",
    "        img = torch.tensor(img, device=torch.device('cuda'), requires_grad = True)\n",
    "        mask = torch.tensor(mask, device=torch.device('cuda'), requires_grad = True)\n",
    "        pred = model(img)\n",
    "        loss = crit(pred, mask)\n",
    "        optim.zero_grad()\n",
    "        loss.backward()\n",
    "        optim.step()\n",
    "        lr_scheduler.step()\n",
    "        total_loss += loss.cpu().item()\n",
    "        with torch.no_grad():\n",
    "            pred_mask = torch.where(sigmoid(pred.detach())<=0.5, 0, 1)\n",
    "            iou = torch.sum(torch.logical_and(mask, pred_mask)) / torch.sum(torch.logical_or(mask, pred_mask))\n",
    "            total_iou = ((total_iou * data_count) + (img.shape[0] * iou)) / (data_count + img.shape[0])\n",
    "        data_count += img.shape[0]\n",
    "        train_ious.append(total_iou.item())\n",
    "        progress_bar.set_postfix(\n",
    "            {\n",
    "                \"loss\": total_loss/(idx+1),\n",
    "                \"iou\": total_iou.item()\n",
    "            }\n",
    "        )\n",
    "#     torch.save(model.state_dict(), '{}/output/{}_segmentation_model.pth'.format(BASE_DIR, epoch))\n",
    "    model = model.eval()\n",
    "    progress_bar = tqdm(val_loader)\n",
    "    data_count = 0\n",
    "    for idx, (img, mask) in enumerate(progress_bar):\n",
    "        progress_bar.set_description(f\"Val Epoch {epoch}\")\n",
    "        img = torch.tensor(img, device=torch.device('cuda'), requires_grad = True)\n",
    "        mask = torch.tensor(mask, device=torch.device('cuda'), requires_grad = True)\n",
    "        pred = model(img)\n",
    "        loss = crit(pred, mask)\n",
    "        data_count += 1\n",
    "        val_total_loss += loss.cpu().item()\n",
    "        with torch.no_grad():\n",
    "            pred_mask = torch.where(sigmoid(pred.detach())<=0.5, 0, 1)\n",
    "            iou = torch.sum(torch.logical_and(mask, pred_mask)) / torch.sum(torch.logical_or(mask, pred_mask))\n",
    "            total_iou = ((total_iou * data_count) + (img.shape[0] * iou)) / (data_count + img.shape[0])\n",
    "        data_count += img.shape[0]\n",
    "        val_ious.append(total_iou.item())\n",
    "        progress_bar.set_postfix(\n",
    "            {\n",
    "                \"loss\": val_total_loss/(idx+1),\n",
    "                \"iou\": total_iou.item()\n",
    "            }\n",
    "        )\n",
    "    train_losses.append(total_loss/len(loader))\n",
    "    val_losses.append(val_total_loss/len(val_loader))\n",
    "    fig = plt.figure(figsize=(5, 5))\n",
    "    fig.add_subplot(1, 1, 1)\n",
    "    plt.plot(train_losses, label=\"train\")\n",
    "    plt.plot(val_losses, label=\"val\")\n",
    "    plt.legend()\n",
    "    plt.show()\n",
    "    if total_iou.item() > best_val_iou:\n",
    "        best_val_iou = total_iou.item()\n",
    "        torch.save(model.state_dict(), os.path.join(semantic_segmentation_output_dir, \"best_segmentation_model.pth\"))\n",
    "\n",
    "'''\n",
    "# Saving the final model\n",
    "'''\n",
    "torch.save(model.state_dict(), os.path.join(semantic_segmentation_output_dir, 'final_segmentation_model.pth'))\n"
   ]
  },
  {
   "cell_type": "code",
   "execution_count": null,
   "metadata": {},
   "outputs": [],
   "source": [
    "fig = plt.figure(figsize=(5, 5))\n",
    "fig.add_subplot(1, 1, 1)\n",
    "plt.plot(train_losses, label=\"train\")\n",
    "plt.plot(val_losses, label=\"val\")\n",
    "plt.legend()"
   ]
  },
  {
   "cell_type": "markdown",
   "metadata": {
    "id": "0dyez1fyQYw7"
   },
   "source": [
    "### Evaluation and Visualization"
   ]
  },
  {
   "cell_type": "code",
   "execution_count": null,
   "metadata": {},
   "outputs": [],
   "source": [
    "model = build_resunet(out_sz=img_size).cuda()\n",
    "model.load_state_dict(torch.load('{}/output/semantic_segmentation/best_segmentation_model.pth'.format(BASE_DIR)))\n",
    "model = model.eval() # chaning the model to evaluation mode will fix the bachnorm layers"
   ]
  },
  {
   "cell_type": "code",
   "execution_count": null,
   "metadata": {
    "id": "TDeViryUSCL2"
   },
   "outputs": [],
   "source": [
    "'''\n",
    "# Before starting the evaluation, you need to set the model mode to eval\n",
    "# You may load the trained model again, in case if you want to continue your code later\n",
    "# TODO: approx 15 lines\n",
    "'''\n",
    "batch_size = 8\n",
    "model = build_resunet(out_sz=img_size).cuda()\n",
    "model.load_state_dict(torch.load('{}/output/semantic_segmentation/best_segmentation_model.pth'.format(BASE_DIR)))\n",
    "model = model.eval() # chaning the model to evaluation mode will fix the bachnorm layers\n",
    "loader, dataset = get_plane_dataset('train', batch_size)\n",
    "\n",
    "total_iou = 0\n",
    "data_count = 0\n",
    "for (img, mask) in tqdm(loader):\n",
    "    with torch.no_grad():\n",
    "        img = img.cuda()\n",
    "        mask = mask.cuda()\n",
    "        pred = torch.where(sigmoid(model(img))<=0.5, 0, 1)\n",
    "        iou = torch.sum(torch.logical_and(mask, pred)) / torch.sum(torch.logical_or(mask, pred))\n",
    "        total_iou = ((total_iou * data_count) + (img.shape[0] * iou)) / (data_count + img.shape[0])\n",
    "        data_count += img.shape[0]\n",
    "    '''\n",
    "    ## Complete the code by obtaining the IoU for each img and print the final Mean IoU\n",
    "    '''\n",
    "    \n",
    "\n",
    "print(\"\\n #images: {}, Mean IoU: {}\".format(data_count, total_iou))\n"
   ]
  },
  {
   "cell_type": "code",
   "execution_count": null,
   "metadata": {
    "id": "jbmTj9JICiKz"
   },
   "outputs": [],
   "source": [
    "'''\n",
    "# Visualize 3 sample outputs\n",
    "# TODO: approx 5 lines\n",
    "'''\n",
    "loader, dataset = get_plane_dataset('val', 32)\n",
    "model.eval()\n",
    "img, mask = next(iter(loader))\n",
    "with torch.no_grad():\n",
    "    img = img.cuda()\n",
    "    mask = mask\n",
    "    pred = pred = torch.where(sigmoid(model(img))<=0.5, 0, 1).cpu()"
   ]
  },
  {
   "cell_type": "code",
   "execution_count": null,
   "metadata": {},
   "outputs": [],
   "source": [
    "fig = plt.figure(figsize=(10, 10))\n",
    "for i in range(3):\n",
    "    fig.add_subplot(3, 3, (i*3)+1)\n",
    "    plt.imshow(img[i, 0].cpu(), cmap=\"gray\")\n",
    "    plt.title('original_image')\n",
    "    fig.add_subplot(3, 3, (i*3)+2)\n",
    "    plt.imshow(mask[i, 0].cpu(), cmap=\"gray\")\n",
    "    plt.title('mask')\n",
    "    fig.add_subplot(3, 3, (i*3)+3)\n",
    "    plt.imshow(pred[i, 0].cpu(), cmap=\"gray\")\n",
    "    plt.title('prediction')\n",
    "plt.show()"
   ]
  },
  {
   "cell_type": "markdown",
   "metadata": {
    "id": "navoiGdrqaZT"
   },
   "source": [
    "## Part 3: Instance Segmentation\n",
    "\n",
    "In this part, you need to obtain the instance segmentation results for the test data by using the trained segmentation model in the previous part and the detection model in Part 1."
   ]
  },
  {
   "cell_type": "markdown",
   "metadata": {
    "id": "vBwk33DGBowP"
   },
   "source": [
    "### Get Prediction"
   ]
  },
  {
   "cell_type": "code",
   "execution_count": null,
   "metadata": {
    "id": "crrZ8TG-Ot2J"
   },
   "outputs": [],
   "source": [
    "'''\n",
    "# Define a new function to obtain the prediction mask by passing a sample data\n",
    "# For this part, you need to use all the previous parts (predictor, get_instance_sample, data preprocessings, etc)\n",
    "# It is better to keep everything (as well as the output of this funcion) on gpu as tensors to speed up the operations.\n",
    "# pred_mask is the instance segmentation result and should have different values for different planes.\n",
    "# TODO: approx 35 lines\n",
    "'''\n",
    "\n",
    "transformation = A.Compose([\n",
    "    A.Resize(img_size[0], img_size[1], cv2.INTER_NEAREST),\n",
    "    A.Normalize((0.5256), (0.2275)),\n",
    "    ToTensorV2(),\n",
    "], p=1)\n",
    "\n",
    "def get_prediction_mask(data, train_test, complete=True):\n",
    "    global model\n",
    "    predictor.model = predictor.model.eval()\n",
    "    model = model.eval()\n",
    "    img = cv2.imread(data['file_name'])\n",
    "    outputs = predictor(img)\n",
    "#     bboxes = outputs['instances'].pred_boxes.tensor\n",
    "    bboxes = outputs['instances'].get_fields()['pred_boxes'].tensor[outputs['instances'].get_fields()['scores'] >= 0.9]\n",
    "    min_x_start, min_y_start = 0, 0\n",
    "#     if train_test == \"train\": \n",
    "#         min_x_start, min_y_start, width, height = images_min_max_cords[data['file_name']]\n",
    "#     else:\n",
    "    height, width = img.shape[:2]\n",
    "    gt_mask = torch.zeros((height, width), dtype=torch.uint8)\n",
    "    pred_mask = torch.zeros((height, width), dtype=torch.uint8)\n",
    "    for idx, bbox in enumerate(bboxes):\n",
    "        start_x, start_y, end_x, end_y = bbox\n",
    "        start_x, start_y, end_x, end_y = int(start_x), int(start_y), int(end_x), int(end_y)\n",
    "        obj_img = img[start_y:end_y, start_x:end_x]\n",
    "        transformed = transformation(image=np.array(ImageOps.grayscale(Image.fromarray(obj_img))))\n",
    "        obj_img = transformed['image']\n",
    "        obj_img = obj_img.cuda()\n",
    "        obj_pred_mask = torch.where(sigmoid(model(torch.unsqueeze(obj_img, 0)))<=0.5, 0, 1).cpu()\n",
    "        pred_mask[min_y_start+start_y:min_y_start+end_y, min_x_start+start_x:min_x_start+end_x] = (idx+1) * F.interpolate(obj_pred_mask.type(torch.uint8), size=[end_y-start_y, end_x-start_x])\n",
    "    for j in range(len(data['annotations'])):\n",
    "        obj_img, obj_mask = get_instance_sample(data, j)\n",
    "        x, y, dx, dy = data['annotations'][j]['bbox']\n",
    "        x, y, dx, dy = int(x), int(y), int(dx), int(dy)\n",
    "        obj_mask = np.zeros((dy, dx))\n",
    "        polygon = []\n",
    "        for i in range(0, len(data['annotations'][j]['segmentation'][0]), 2):\n",
    "            s_x, s_y = data['annotations'][j]['segmentation'][0][i:i+2]\n",
    "            polygon.append([s_x-x, s_y-y])\n",
    "\n",
    "        contours = np.array(polygon)\n",
    "        cv2.fillPoly(obj_mask, pts = [contours], color =(1,1,1))\n",
    "        gt_mask[min_y_start+int(y):min_y_start+int(y+dy), min_x_start+int(x):min_x_start+int(x+dx)] = torch.tensor(obj_mask)\n",
    "#     if train_test == \"train\":\n",
    "#         img = cv2.imread(os.path.join(BASE_DIR, \"data\", \"train\", data['file_name'].split(\"/\")[-1]))\n",
    "    return img, gt_mask, pred_mask # gt_mask could be all zero when the ground truth is not given.\n"
   ]
  },
  {
   "cell_type": "markdown",
   "metadata": {
    "id": "fc7TSK6EBi9u"
   },
   "source": [
    "### Visualization and Submission"
   ]
  },
  {
   "cell_type": "code",
   "execution_count": null,
   "metadata": {
    "id": "H7T2YX8MBiGO"
   },
   "outputs": [],
   "source": [
    "'''\n",
    "# Visualise the output prediction as well as the GT Mask and Input image for a sample input\n",
    "# TODO: approx 10 lines\n",
    "'''\n",
    "fig = plt.figure(figsize=(50, 50))\n",
    "\n",
    "dataset_dicts = get_detection_data(\"test\")\n",
    "for i, d in enumerate(random.sample(dataset_dicts, 3)):\n",
    "    img, gt_mask, pred_mask = get_prediction_mask(d, \"test\")\n",
    "    fig.add_subplot(3, 3, (i*3)+1)\n",
    "    plt.imshow(img)\n",
    "    plt.title('original_image')\n",
    "    fig.add_subplot(3, 3, (i*3)+2)\n",
    "    plt.imshow(gt_mask, cmap=\"rainbow\")\n",
    "    plt.title('mask')\n",
    "    fig.add_subplot(3, 3, (i*3)+3)\n",
    "    plt.imshow(pred_mask, cmap=\"rainbow\")\n",
    "    plt.title('prediction')\n",
    "plt.show()\n"
   ]
  },
  {
   "cell_type": "code",
   "execution_count": null,
   "metadata": {
    "id": "uPo_03up-g_f"
   },
   "outputs": [],
   "source": [
    "'''\n",
    "# ref: https://www.kaggle.com/rakhlin/fast-run-length-encoding-python\n",
    "# https://www.kaggle.com/c/airbus-ship-detection/overview/evaluation\n",
    "'''\n",
    "def rle_encoding(x):\n",
    "    '''\n",
    "    x: pytorch tensor on gpu, 1 - mask, 0 - background\n",
    "    Returns run length as list\n",
    "    '''\n",
    "    dots = torch.where(torch.flatten(x.long())==1)[0]\n",
    "    if(len(dots)==0):\n",
    "        return []\n",
    "    inds = torch.where(dots[1:]!=dots[:-1]+1)[0]+1\n",
    "    inds = torch.cat((torch.tensor([0], device=torch.device('cuda'), dtype=torch.long), inds))\n",
    "    tmpdots = dots[inds]\n",
    "    inds = torch.cat((inds, torch.tensor([len(dots)], device=torch.device('cuda'))))\n",
    "    inds = inds[1:] - inds[:-1]\n",
    "    runs = torch.cat((tmpdots, inds)).reshape((2,-1))\n",
    "    runs = torch.flatten(torch.transpose(runs, 0, 1)).cpu().data.numpy()\n",
    "    return ' '.join([str(i) for i in runs])"
   ]
  },
  {
   "cell_type": "code",
   "execution_count": null,
   "metadata": {
    "id": "zv0rab2LJev-"
   },
   "outputs": [],
   "source": [
    "'''\n",
    "# You need to upload the csv file on kaggle\n",
    "# The speed of your code in the previous parts highly affects the running time of this part\n",
    "'''\n",
    "# dataset_dicts = get_detection_data(\"train\")\n",
    "preddic = {\"ImageId\": [], \"EncodedPixels\": []}\n",
    "\n",
    "'''\n",
    "# Writing the predictions of the training set\n",
    "'''\n",
    "# my_data_list = DatasetCatalog.get(\"data_detection_{}\".format('train'))\n",
    "my_data_list = get_detection_data(\"train\")\n",
    "for i in tqdm(range(len(my_data_list)), position=0, leave=True):\n",
    "  sample = my_data_list[i]\n",
    "  sample['image_id'] = sample['file_name'].split(\"/\")[-1][:-4]\n",
    "  img, true_mask, pred_mask = get_prediction_mask(sample, \"train\")\n",
    "  inds = torch.unique(pred_mask)\n",
    "  if(len(inds)==1):\n",
    "    preddic['ImageId'].append(sample['image_id'])\n",
    "    preddic['EncodedPixels'].append([])\n",
    "  else:\n",
    "    for index in inds:\n",
    "      if(index == 0):\n",
    "        continue\n",
    "      tmp_mask = (pred_mask.cuda()==index)\n",
    "      encPix = rle_encoding(tmp_mask)\n",
    "      preddic['ImageId'].append(sample['image_id'])\n",
    "      preddic['EncodedPixels'].append(encPix)\n",
    "\n",
    "'''\n",
    "# Writing the predictions of the test set\n",
    "'''\n",
    "# my_data_list = DatasetCatalog.get(\"data_detection_{}\".format('test'))\n",
    "my_data_list = get_detection_data(\"test\")\n",
    "for i in tqdm(range(len(my_data_list)), position=0, leave=True):\n",
    "  sample = my_data_list[i]\n",
    "  sample['image_id'] = sample['file_name'].split(\"/\")[-1][:-4]\n",
    "  img, true_mask, pred_mask = get_prediction_mask(sample, \"test\")\n",
    "  inds = torch.unique(pred_mask)\n",
    "  if(len(inds)==1):\n",
    "    preddic['ImageId'].append(sample['image_id'])\n",
    "    preddic['EncodedPixels'].append([])\n",
    "  else:\n",
    "    for j, index in enumerate(inds):\n",
    "      if(index == 0):\n",
    "        continue\n",
    "      tmp_mask = (pred_mask.cuda()==index).double()\n",
    "      encPix = rle_encoding(tmp_mask)\n",
    "      preddic['ImageId'].append(sample['image_id'])\n",
    "      preddic['EncodedPixels'].append(encPix)\n",
    "\n",
    "pred_file = open(\"{}/pred.csv\".format(BASE_DIR), 'w')\n",
    "pd.DataFrame(preddic).to_csv(pred_file, index=False)\n",
    "pred_file.close()\n"
   ]
  },
  {
   "cell_type": "markdown",
   "metadata": {
    "id": "p7nN4SduqrpI"
   },
   "source": [
    "## Part 4: Mask R-CNN\n",
    "\n",
    "For this part you need to follow a same procedure to part 2 with the configs of Mask R-CNN, other parts are generally the same as part 2."
   ]
  },
  {
   "cell_type": "markdown",
   "metadata": {
    "id": "axWf7drKNXYd"
   },
   "source": [
    "### Data Loader"
   ]
  },
  {
   "cell_type": "code",
   "execution_count": null,
   "metadata": {
    "id": "yC1FDCcQN2LH"
   },
   "outputs": [],
   "source": [
    "'''\n",
    "# This function should return a list of data samples in which each sample is a dictionary. \n",
    "# Make sure to select the correct bbox_mode for the data\n",
    "# For the test data, you only have access to the images, therefore, the annotations should be empty.\n",
    "# Other values could be obtained from the image files.\n",
    "# TODO: approx 35 lines\n",
    "'''\n",
    "\n",
    "'''\n",
    "# This function should return a list of data samples in which each sample is a dictionary. \n",
    "# Make sure to select the correct bbox_mode for the data\n",
    "# For the test data, you only have access to the images, therefore, the annotations should be empty.\n",
    "# Other values could be obtained from the image files.\n",
    "# TODO: approx 35 lines\n",
    "'''\n",
    "images_min_max_cords = {}\n",
    "def get_detection_data(set_name, complete=False):\n",
    "    global images_min_max_cords\n",
    "    images_min_max_cords = {}\n",
    "    data_dirs = '{}/data'.format(BASE_DIR)\n",
    "    record = {}\n",
    "    dataset_dicts = []\n",
    "    if set_name == \"train\" or set_name == \"val\":\n",
    "        processed_data_dirs = '{}/object_detection_data'.format(BASE_DIR)\n",
    "        os.makedirs(os.path.join(processed_data_dirs, \"train\"), exist_ok=True)\n",
    "        with open(os.path.join(data_dirs, \"train.json\")) as f:\n",
    "            imgs_anns = json.load(f)\n",
    "        sorted_imgs_anns = sorted(imgs_anns, key=lambda x:x['file_name'])\n",
    "        i = 0\n",
    "        previous_file_name = None\n",
    "        record[\"file_name\"] = os.path.join(data_dirs, \"train\", sorted_imgs_anns[0][\"file_name\"])\n",
    "        record[\"image_id\"] = sorted_imgs_anns[0][\"image_id\"]\n",
    "        record['width'], record['height'] = Image.open(os.path.join(data_dirs, \"train\", sorted_imgs_anns[0]['file_name'])).size\n",
    "        record['annotations'] = [{\n",
    "                'bbox_mode': BoxMode.XYWH_ABS,\n",
    "                \"category_id\": 0,\n",
    "                \"segmentation\": sorted_imgs_anns[0]['segmentation'],\n",
    "                \"bbox\": sorted_imgs_anns[0]['bbox']\n",
    "            }]\n",
    "        x, y, dx, dy = sorted_imgs_anns[0]['bbox']\n",
    "        x, y, dx, dy = int(x), int(y), int(dx), int(dy)\n",
    "        min_x_start, min_y_start, max_x_end, max_y_end = x, y, x+dx, y+dy\n",
    "        while True:\n",
    "            if i+1 < len(sorted_imgs_anns) and sorted_imgs_anns[i+1][\"file_name\"] == sorted_imgs_anns[i][\"file_name\"]:\n",
    "                record['annotations'].append({\n",
    "                    'bbox_mode': BoxMode.XYWH_ABS,\n",
    "                    \"category_id\": 0,\n",
    "                    \"segmentation\": sorted_imgs_anns[i+1]['segmentation'],\n",
    "                    \"bbox\": sorted_imgs_anns[i+1]['bbox']\n",
    "                })\n",
    "                x, y, dx, dy = sorted_imgs_anns[i+1]['bbox']\n",
    "                x, y, dx, dy = int(x), int(y), int(dx), int(dy)\n",
    "                min_x_start = min(min_x_start, x)\n",
    "                min_y_start = min(min_y_start, y)\n",
    "                max_x_end = max(max_x_end, x+dx)\n",
    "                max_y_end = max(max_y_end, y+dy)\n",
    "                i += 1\n",
    "                continue\n",
    "            else:\n",
    "                i += 1\n",
    "            dataset_dicts.append(record)\n",
    "            record = {}\n",
    "            if i == len(sorted_imgs_anns):\n",
    "                break\n",
    "            record[\"file_name\"] = os.path.join(data_dirs, \"train\", sorted_imgs_anns[i][\"file_name\"])\n",
    "            record[\"image_id\"] = sorted_imgs_anns[i][\"image_id\"]\n",
    "            record['width'], record['height'] = Image.open(os.path.join(data_dirs, \"train\", sorted_imgs_anns[i]['file_name'])).size\n",
    "            record['annotations'] = [{\n",
    "                    'bbox_mode': BoxMode.XYWH_ABS,\n",
    "                    \"category_id\": 0,\n",
    "                    \"segmentation\": sorted_imgs_anns[i]['segmentation'],\n",
    "                    \"bbox\": sorted_imgs_anns[i]['bbox']\n",
    "                }]\n",
    "            x, y, dx, dy = sorted_imgs_anns[i]['bbox']\n",
    "            x, y, dx, dy = int(x), int(y), int(dx), int(dy)\n",
    "            min_x_start, min_y_start, max_x_end, max_y_end = x, y, x+dx, y+dy\n",
    "        if set_name == \"train\":\n",
    "            dataset_dicts = dataset_dicts[int(len(dataset_dicts)*0.15):]\n",
    "        if set_name == \"val\":\n",
    "            dataset_dicts = dataset_dicts[:int(len(dataset_dicts)*0.15)]\n",
    "    elif set_name == \"test\":\n",
    "        img_file_pathes = glob(os.path.join(data_dirs, 'test/*.png'))\n",
    "        for idx, img_file_path in enumerate(img_file_pathes):\n",
    "            img = Image.open(img_file_path)\n",
    "            record = {}\n",
    "            record[\"file_name\"] = img_file_path\n",
    "            record[\"image_id\"] = idx\n",
    "            record['width'], record['height'] = Image.open(img_file_path).size\n",
    "            record['annotations'] = []\n",
    "            dataset_dicts.append(record)\n",
    "    return dataset_dicts\n",
    "\n",
    "'''\n",
    "# Remember to add your dataset to DatasetCatalog and MetadataCatalog\n",
    "# Consdier \"data_detection_train\" and \"data_detection_test\" for registration\n",
    "# You can also add an optional \"data_detection_val\" for your validation by spliting the training data\n",
    "# TODO: approx 5 lines\n",
    "'''\n",
    "for d in [\"train\", \"val\", \"test\"]:\n",
    "    DatasetCatalog.register(\"data_detection_\" + d, lambda d=d: get_detection_data(d))\n",
    "    MetadataCatalog.get(\"data_detection_\" + d).set(thing_classes=[\"plane\"])\n",
    "plane_metadata = MetadataCatalog.get(\"data_detection_train\")"
   ]
  },
  {
   "cell_type": "markdown",
   "metadata": {
    "id": "lG5slAhQNjE7"
   },
   "source": [
    "### Network"
   ]
  },
  {
   "cell_type": "code",
   "execution_count": null,
   "metadata": {
    "id": "KG1pnKLMOcjS"
   },
   "outputs": [],
   "source": [
    "'''\n",
    "# Set the configs for the detection part in here.\n",
    "# TODO: approx 15 lines\n",
    "'''\n",
    "cfg = get_cfg()\n",
    "cfg.OUTPUT_DIR = \"{}/output/object_detection\".format(BASE_DIR)\n",
    "os.makedirs(cfg.OUTPUT_DIR, exist_ok=True)\n",
    "cfg.merge_from_file(model_zoo.get_config_file(\"COCO-InstanceSegmentation/mask_rcnn_R_50_FPN_3x.yaml\"))\n",
    "cfg.DATASETS.TRAIN = (\"data_detection_train\",)\n",
    "cfg.DATASETS.TEST = (\"data_detection_val\",)\n",
    "cfg.DATALOADER.NUM_WORKERS = 8\n",
    "cfg.MODEL.WEIGHTS = model_zoo.get_checkpoint_url(\"COCO-InstanceSegmentation/mask_rcnn_R_50_FPN_3x.yaml\")  # Let training initialize from model zoo\n",
    "cfg.MODEL.MASK_ON = True\n",
    "# cfg.MODEL.BACKBONE.NAME = \"build_resnet_backbone\"\n",
    "# cfg.MODEL.RESNETS.DEPTH = 34\n",
    "# cfg.MODEL.RESNETS.RES2_OUT_CHANNELS = 64\n",
    "cfg.SOLVER.IMS_PER_BATCH = 2\n",
    "cfg.SOLVER.BASE_LR = 0.00025  # pick a good LR\n",
    "cfg.SOLVER.MAX_ITER = 300    # 300 iterations seems good enough for this toy dataset; you will need to train longer for a practical dataset\n",
    "cfg.SOLVER.STEPS = []        # do not decay learning rate\n",
    "# cfg.SOLVER.STEPS = (20, 10000, 20000)\n",
    "cfg.MODEL.ROI_HEADS.BATCH_SIZE_PER_IMAGE = 512   # faster, and good enough for this toy dataset (default: 512)\n",
    "cfg.MODEL.ROI_HEADS.NUM_CLASSES = 1  # only has one class (ballon). (see https://detectron2.readthedocs.io/tutorials/datasets.html#update-the-config-for-new-datasets)\n",
    "# NOTE: this config means the number of classes, but a few popular unofficial tutorials incorrect uses num_classes+1 here.\n",
    "cfg.INPUT.MIN_SIZE_TRAIN = (800,)"
   ]
  },
  {
   "cell_type": "markdown",
   "metadata": {
    "id": "t7ifeV1sNvtt"
   },
   "source": [
    "### Training"
   ]
  },
  {
   "cell_type": "code",
   "execution_count": null,
   "metadata": {
    "id": "tc4K0Nz5OeKk"
   },
   "outputs": [],
   "source": [
    "trainer = DefaultTrainer(cfg)\n",
    "trainer.resume_or_load(resume=False)\n",
    "trainer.train()"
   ]
  },
  {
   "cell_type": "markdown",
   "metadata": {
    "id": "298QruFnNxyn"
   },
   "source": [
    "### Evaluation and Visualization"
   ]
  },
  {
   "cell_type": "code",
   "execution_count": null,
   "metadata": {
    "id": "KcGwV5-9Oetp"
   },
   "outputs": [],
   "source": [
    "'''\n",
    "# After training the model, you need to update cfg.MODEL.WEIGHTS\n",
    "# Define a DefaultPredictor\n",
    "'''\n",
    "cfg.MODEL.WEIGHTS = os.path.join(cfg.OUTPUT_DIR, \"model_final.pth\")  # path to the model we just trained\n",
    "cfg.MODEL.ROI_HEADS.SCORE_THRESH_TEST = 0.6   # set a custom testing threshold\n",
    "predictor = DefaultPredictor(cfg)\n"
   ]
  },
  {
   "cell_type": "code",
   "execution_count": null,
   "metadata": {},
   "outputs": [],
   "source": [
    "'''\n",
    "# Visualize the output for 3 random test samples\n",
    "# TODO: approx 10 lines\n",
    "'''\n",
    "dataset_dicts = get_detection_data(\"test\")\n",
    "for d in random.sample(dataset_dicts, 3): \n",
    "# dataset_dicts = get_detection_data(\"train\")\n",
    "# for d in dataset_dicts: \n",
    "    im = cv2.imread(d[\"file_name\"])\n",
    "    outputs = predictor(im)  # format is documented at https://detectron2.readthedocs.io/tutorials/models.html#model-output-format\n",
    "    v = Visualizer(im[:, :, ::-1],\n",
    "                   metadata=plane_metadata, \n",
    "                   scale=0.5, \n",
    "                   instance_mode=ColorMode.IMAGE_BW   # remove the colors of unsegmented pixels. This option is only available for segmentation models\n",
    "    )\n",
    "    out = v.draw_instance_predictions(outputs[\"instances\"].to(\"cpu\"))\n",
    "    plt.figure(figsize=(20, 20))\n",
    "    plt.imshow(out.get_image()[:, :, ::-1])\n",
    "    plt.show()"
   ]
  },
  {
   "cell_type": "code",
   "execution_count": null,
   "metadata": {
    "id": "l_3wS2BFLLGp"
   },
   "outputs": [],
   "source": [
    "'''\n",
    "# Use COCOEvaluator and build_detection_train_loader\n",
    "# You can save the output predictions using inference_on_dataset\n",
    "# TODO: approx 5 lines\n",
    "'''\n",
    "evaluator = COCOEvaluator(\"data_detection_train\", output_dir=\"./output/object_detection/\")\n",
    "val_loader = build_detection_test_loader(cfg, \"data_detection_train\")\n",
    "print(inference_on_dataset(predictor.model, val_loader, evaluator))\n",
    "# another equivalent way to evaluate the model is to use `trainer.test`\n"
   ]
  }
 ],
 "metadata": {
  "accelerator": "GPU",
  "colab": {
   "collapsed_sections": [],
   "name": "lab3.ipynb",
   "provenance": []
  },
  "kernelspec": {
   "display_name": "Python 3 (ipykernel)",
   "language": "python",
   "name": "python3"
  },
  "language_info": {
   "codemirror_mode": {
    "name": "ipython",
    "version": 3
   },
   "file_extension": ".py",
   "mimetype": "text/x-python",
   "name": "python",
   "nbconvert_exporter": "python",
   "pygments_lexer": "ipython3",
   "version": "3.9.6"
  }
 },
 "nbformat": 4,
 "nbformat_minor": 1
}
